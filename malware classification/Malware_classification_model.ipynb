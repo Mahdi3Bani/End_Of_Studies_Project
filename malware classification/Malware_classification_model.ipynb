{
 "cells": [
  {
   "cell_type": "code",
   "execution_count": 1,
   "metadata": {},
   "outputs": [],
   "source": [
    "import pandas as pd\n",
    "import numpy as np\n",
    "from sklearn.decomposition import PCA\n",
    "import matplotlib.pyplot as plt\n",
    "from IPython.display import clear_output"
   ]
  },
  {
   "cell_type": "markdown",
   "metadata": {},
   "source": [
    "# Naive frequentist approach\n"
   ]
  },
  {
   "cell_type": "markdown",
   "metadata": {},
   "source": [
    "### Loading the dataset"
   ]
  },
  {
   "cell_type": "code",
   "execution_count": 2,
   "metadata": {},
   "outputs": [
    {
     "name": "stdout",
     "output_type": "stream",
     "text": [
      "{1: 0, 2: 1, 7: 2, 9: 3, 10: 4, 11: 5, 12: 6, 13: 7, 14: 8, 15: 9, 16: 10, 18: 11, 22: 12, 23: 13, 24: 14, 25: 15, 28: 16, 29: 17, 30: 18, 34: 19, 35: 20, 36: 21, 37: 22, 38: 23, 39: 24, 40: 25, 41: 26, 42: 27, 43: 28, 44: 29, 45: 30, 46: 31, 47: 32, 48: 33, 49: 34, 50: 35, 51: 36, 52: 37, 53: 38, 54: 39, 55: 40, 56: 41, 57: 42, 58: 43, 59: 44, 60: 45, 61: 46, 62: 47, 63: 48, 64: 49, 65: 50, 66: 51, 67: 52, 69: 53, 70: 54, 71: 55, 72: 56, 73: 57, 74: 58, 75: 59, 77: 60, 78: 61, 79: 62, 80: 63, 88: 64, 89: 65, 90: 66, 91: 67, 92: 68, 93: 69, 94: 70, 95: 71, 96: 72, 97: 73, 98: 74, 99: 75, 100: 76, 101: 77, 102: 78, 103: 79, 104: 80, 105: 81, 106: 82, 107: 83, 108: 84, 110: 85, 112: 86, 113: 87, 114: 88, 117: 89, 118: 90, 119: 91, 121: 92, 122: 93, 123: 94, 124: 95, 125: 96, 126: 97, 127: 98, 128: 99, 129: 100, 130: 101, 131: 102, 132: 103, 133: 104, 134: 105, 135: 106, 136: 107, 138: 108, 139: 109, 140: 110, 141: 111, 142: 112, 143: 113, 144: 114, 145: 115, 148: 116, 152: 117, 154: 118, 156: 119, 157: 120, 158: 121, 159: 122, 160: 123, 161: 124, 162: 125, 163: 126, 164: 127, 165: 128, 166: 129, 167: 130, 168: 131, 169: 132, 170: 133, 171: 134, 172: 135, 173: 136, 174: 137, 175: 138, 176: 139, 177: 140, 178: 141, 179: 142, 180: 143, 181: 144, 182: 145, 183: 146, 184: 147, 185: 148, 186: 149, 187: 150, 188: 151, 189: 152, 190: 153, 192: 154, 195: 155, 197: 156, 199: 157, 200: 158, 203: 159, 204: 160, 205: 161, 206: 162, 207: 163, 208: 164, 209: 165, 210: 166, 211: 167, 212: 168, 213: 169, 214: 170, 215: 171, 216: 172, 218: 173, 219: 174, 220: 175, 221: 176, 222: 177, 223: 178, 224: 179, 225: 180, 226: 181, 227: 182, 228: 183, 229: 184, 230: 185, 231: 186, 232: 187, 233: 188, 234: 189, 235: 190, 236: 191, 237: 192, 238: 193, 239: 194, 240: 195, 241: 196, 242: 197, 243: 198, 244: 199, 248: 200, 249: 201, 250: 202, 252: 203, 257: 204, 258: 205, 259: 206, 260: 207, 261: 208, 262: 209, 263: 210, 264: 211, 265: 212, 267: 213, 268: 214, 270: 215, 271: 216, 272: 217, 273: 218, 274: 219, 275: 220, 278: 221, 280: 222, 281: 223, 283: 224, 284: 225, 285: 226, 286: 227, 287: 228, 288: 229, 289: 230, 290: 231, 291: 232, 292: 233, 293: 234, 294: 235, 295: 236, 298: 237, 299: 238, 300: 239, 301: 240, 302: 241, 303: 242, 304: 243, 306: 244, 307: 245, 308: 246, 309: 247, 310: 248, 311: 249, 312: 250, 313: 251, 314: 252, 315: 253, 316: 254, 317: 255, 318: 256, 319: 257, 320: 258, 321: 259, 322: 260, 323: 261, 324: 262, 325: 263, 326: 264, 327: 265, 328: 266, 329: 267, 330: 268, 331: 269, 332: 270, 333: 271, 334: 272, 335: 273, 336: 274, 338: 275, 339: 276, 340: 277}\n"
     ]
    }
   ],
   "source": [
    "malwares = []\n",
    "\n",
    "\n",
    "\n",
    "lengths=[]\n",
    "with open('../archive/api/1000_calls.txt') as f :\n",
    "    for line in f:\n",
    "        l=line.split(',')\n",
    "        l=[int(x) for x in l]\n",
    "        malwares.append(np.array(l))\n",
    "\n",
    "\n",
    "# we want our words to fill an interval of integers [0... something[\n",
    "def translate_to_normal(malwares) :\n",
    "    values=set(np.concatenate(malwares))\n",
    "    values=list(values)\n",
    "    dic={}\n",
    "    for i in range(len(values)) :\n",
    "        dic[values[i]]=i\n",
    "    print(dic)\n",
    "    return [np.array([dic[x] for x in row]) for row in malwares]\n",
    "\n",
    "malwares = translate_to_normal(malwares)\n"
   ]
  },
  {
   "cell_type": "code",
   "execution_count": 3,
   "metadata": {},
   "outputs": [],
   "source": [
    "labels=[]\n",
    "\n",
    "with open('../archive/labels.txt') as f :\n",
    "    for line in f:\n",
    "        labels.append(line.split('\\n')[0])\n",
    "\n",
    "uniques = np.unique(np.array(labels),return_counts=True)\n",
    "\n",
    "dic={}\n",
    "for x,i in zip(uniques[0],range(8)) :\n",
    "    dic[x]=i\n",
    "\n",
    "labels=np.array([dic[x] for x in labels])"
   ]
  },
  {
   "cell_type": "markdown",
   "metadata": {},
   "source": [
    "### Content of the dataset"
   ]
  },
  {
   "cell_type": "code",
   "execution_count": 4,
   "metadata": {},
   "outputs": [],
   "source": [
    "lengths = [m.size for m in malwares]\n",
    "indices=list(range(len(malwares)))"
   ]
  },
  {
   "cell_type": "code",
   "execution_count": 5,
   "metadata": {},
   "outputs": [
    {
     "name": "stdout",
     "output_type": "stream",
     "text": [
      "7107\n"
     ]
    },
    {
     "data": {
      "text/plain": [
       "(array([6.83e+03, 9.70e+01, 3.50e+01, 3.10e+01, 1.80e+01, 1.10e+01,\n",
       "        2.10e+01, 7.00e+00, 1.20e+01, 1.20e+01, 7.00e+00, 7.00e+00,\n",
       "        3.00e+00, 2.00e+00, 3.00e+00, 2.00e+00, 6.00e+00, 1.00e+00,\n",
       "        0.00e+00, 2.00e+00]),\n",
       " array([1.00000000e+01, 8.82305500e+04, 1.76451100e+05, 2.64671650e+05,\n",
       "        3.52892200e+05, 4.41112750e+05, 5.29333300e+05, 6.17553850e+05,\n",
       "        7.05774400e+05, 7.93994950e+05, 8.82215500e+05, 9.70436050e+05,\n",
       "        1.05865660e+06, 1.14687715e+06, 1.23509770e+06, 1.32331825e+06,\n",
       "        1.41153880e+06, 1.49975935e+06, 1.58797990e+06, 1.67620045e+06,\n",
       "        1.76442100e+06]),\n",
       " <BarContainer object of 20 artists>)"
      ]
     },
     "execution_count": 5,
     "metadata": {},
     "output_type": "execute_result"
    },
    {
     "data": {
      "image/png": "[encoded data removed]",
      "text/plain": [
       "<Figure size 640x480 with 1 Axes>"
      ]
     },
     "metadata": {},
     "output_type": "display_data"
    }
   ],
   "source": [
    "print(len(malwares))\n",
    "plt.hist(lengths,bins=20)"
   ]
  },
  {
   "cell_type": "markdown",
   "metadata": {},
   "source": [
    "Let's restrict to sequences of api calls of a reasonable size"
   ]
  },
  {
   "cell_type": "code",
   "execution_count": 6,
   "metadata": {},
   "outputs": [
    {
     "name": "stdout",
     "output_type": "stream",
     "text": [
      "4322\n"
     ]
    },
    {
     "data": {
      "image/png": "[encoded data removed]",
      "text/plain": [
       "<Figure size 640x480 with 1 Axes>"
      ]
     },
     "metadata": {},
     "output_type": "display_data"
    }
   ],
   "source": [
    "lengths=[x for x in lengths if x<2000 and x>100]\n",
    "print(len(lengths))\n",
    "plt.hist(lengths,bins=20)\n",
    "\n",
    "indices_train_test=[x for x in indices if len(malwares[x])>100 and len(malwares[x])<2000] "
   ]
  },
  {
   "cell_type": "markdown",
   "metadata": {},
   "source": [
    "We split the dataset in a train set and a test set"
   ]
  },
  {
   "cell_type": "code",
   "execution_count": 7,
   "metadata": {},
   "outputs": [],
   "source": [
    "def split_train_test(indices_train_test, alpha) :\n",
    "    #alpha is the probability to lie in the test set\n",
    "    indices_test=[]\n",
    "    indices_train=[]\n",
    "    for index in indices_train_test :\n",
    "        u = np.random.rand()\n",
    "        if u < alpha : \n",
    "            indices_test.append(index)\n",
    "        else :\n",
    "            indices_train.append(index)\n",
    "    return indices_test, indices_train\n",
    "\n",
    "indices_test, indices_train = split_train_test(indices_train_test, .20)\n",
    "\n",
    "malwares_test, malwares_train = [malwares[i] for i in indices_test] , [malwares[i] for i in indices_train]\n",
    "\n",
    "labels_test, labels_train = [labels[i] for i in indices_test] , [labels[i] for i in indices_train]\n",
    "\n"
   ]
  },
  {
   "cell_type": "markdown",
   "metadata": {},
   "source": [
    "Distribution of the labels in the train set:"
   ]
  },
  {
   "cell_type": "code",
   "execution_count": 8,
   "metadata": {},
   "outputs": [
    {
     "name": "stdout",
     "output_type": "stream",
     "text": [
      "(array([0, 1, 2, 3, 4, 5, 6, 7]), array([157, 544, 586, 435, 421, 519, 299, 476]))\n"
     ]
    }
   ],
   "source": [
    "print(np.unique(np.array(labels_train),return_counts=True))"
   ]
  },
  {
   "cell_type": "markdown",
   "metadata": {},
   "source": [
    "For each malware let us record the frequencies of each possible api call in a vector of length 278:"
   ]
  },
  {
   "cell_type": "code",
   "execution_count": 9,
   "metadata": {},
   "outputs": [],
   "source": [
    "def most_naive_statistical_test(indices,len_of_range):\n",
    "    record = []\n",
    "    for i in indices :\n",
    "        vec=[]\n",
    "        malware=np.array(malwares[i])\n",
    "        for var in range(len_of_range) :\n",
    "            vec.append(np.sum(np.equal(malware,var)))\n",
    "        record.append(vec)\n",
    "    return np.array(record, dtype=float)\n",
    "\n",
    "naive_train=most_naive_statistical_test(indices_train,278)\n",
    "naive_test=most_naive_statistical_test(indices_test,278)"
   ]
  },
  {
   "cell_type": "markdown",
   "metadata": {},
   "source": [
    "Since the sequences have variable size it seems natural to normalise these vectors of length 278."
   ]
  },
  {
   "cell_type": "code",
   "execution_count": 10,
   "metadata": {},
   "outputs": [],
   "source": [
    "naive_train/=naive_train.std(axis=1)[:,None]\n",
    "naive_test/=naive_test.std(axis=1)[:,None]"
   ]
  },
  {
   "cell_type": "markdown",
   "metadata": {},
   "source": [
    "Note that each of our vector has non negative coordinates, and lie on the sphere of radius 1 in the 278 dimensional space. This dimension is too large to use the usual geometric tools like K-Means and KNN (they don't behave well in large dimensions). So let us reduce the dimension :"
   ]
  },
  {
   "cell_type": "code",
   "execution_count": 11,
   "metadata": {},
   "outputs": [
    {
     "name": "stdout",
     "output_type": "stream",
     "text": [
      "[0.23015396 0.3938266  0.49967131 0.5599534  0.60339495 0.64133237\n",
      " 0.67347146 0.70302553 0.72776238 0.74909727 0.76677743 0.7830551 ]\n"
     ]
    }
   ],
   "source": [
    "kept_dimensions = 12\n",
    "\n",
    "from sklearn.decomposition import PCA\n",
    "pca = PCA(n_components=kept_dimensions)\n",
    "pca.fit(naive_train)\n",
    "print(np.cumsum(pca.explained_variance_ratio_))    \n",
    "\n",
    "pca_train = pca.transform(naive_train)\n",
    "pca_test  = pca.transform(naive_test)\n"
   ]
  },
  {
   "cell_type": "markdown",
   "metadata": {},
   "source": [
    "### K-means"
   ]
  },
  {
   "cell_type": "markdown",
   "metadata": {},
   "source": [
    "Now we can apply K-means to see whether the geometry we obtained allows to clusterize the malwares according to their labels."
   ]
  },
  {
   "cell_type": "code",
   "execution_count": 12,
   "metadata": {},
   "outputs": [
    {
     "name": "stdout",
     "output_type": "stream",
     "text": [
      "state:0\n",
      "Distributions of classes in the clusters:\n",
      "(array([0, 1, 2, 3, 4, 5, 6, 7]), array([ 56,  19, 232,  37,  15,  34,  35,  48]))\n",
      "(array([0, 1, 2, 3, 4, 5, 6, 7]), array([ 38, 244, 175, 154, 186, 252,  89, 212]))\n",
      "(array([0, 1, 2, 3, 4, 5, 6, 7]), array([ 44, 104,  30,  77,  83,  97,  29,  81]))\n",
      "(array([1, 2, 4, 5, 6, 7]), array([49,  1,  4, 10,  2, 19]))\n",
      "(array([0, 1, 2, 3, 4, 5, 6, 7]), array([10, 21, 90, 79, 29, 23, 40, 31]))\n",
      "(array([0, 1, 2, 3, 4, 5, 6, 7]), array([ 5,  8, 15, 18, 27, 14,  1, 12]))\n",
      "(array([0, 1, 2, 3, 4, 5, 6, 7]), array([ 1, 51, 14, 31, 44, 48, 52, 58]))\n",
      "(array([0, 1, 2, 3, 4, 5, 6, 7]), array([ 3, 48, 29, 39, 33, 41, 51, 15]))\n",
      "state:1\n",
      "Distributions of classes in the clusters:\n",
      "(array([0, 1, 2, 3, 4, 5, 6, 7]), array([ 1, 50, 13, 30, 41, 47, 50, 56]))\n",
      "(array([0, 1, 2, 3, 4, 5, 6, 7]), array([ 44, 107,  31,  75,  82,  99,  28,  83]))\n",
      "(array([0, 1, 2, 3, 4, 5, 6, 7]), array([ 38, 242, 174, 155, 187, 249,  90, 210]))\n",
      "(array([0, 1, 2, 3, 4, 5, 6, 7]), array([ 56,  19, 232,  37,  15,  34,  35,  48]))\n",
      "(array([1, 2, 4, 5, 6, 7]), array([49,  1,  4, 10,  2, 19]))\n",
      "(array([0, 1, 2, 3, 4, 5, 6, 7]), array([ 5,  8, 15, 18, 27, 14,  1, 12]))\n",
      "(array([0, 1, 2, 3, 4, 5, 6, 7]), array([ 3, 48, 30, 41, 37, 43, 52, 17]))\n",
      "(array([0, 1, 2, 3, 4, 5, 6, 7]), array([10, 21, 90, 79, 28, 23, 41, 31]))\n",
      "state:2\n",
      "Distributions of classes in the clusters:\n",
      "(array([0, 1, 2, 3, 4, 5, 6, 7]), array([ 56,  19, 230,  37,  15,  34,  35,  48]))\n",
      "(array([0, 1, 2, 3, 4, 5, 6, 7]), array([ 44, 104,  29,  77,  82,  96,  29,  81]))\n",
      "(array([0, 1, 2, 3, 4, 5, 6, 7]), array([10, 21, 92, 79, 28, 23, 42, 31]))\n",
      "(array([0, 1, 2, 3, 4, 5, 6, 7]), array([ 3, 48, 30, 39, 37, 43, 51, 16]))\n",
      "(array([0, 1, 2, 3, 4, 5, 6, 7]), array([ 38, 245, 176, 155, 187, 252,  90, 211]))\n",
      "(array([0, 1, 2, 3, 4, 5, 6, 7]), array([ 5,  7, 15, 18, 27, 14,  1, 13]))\n",
      "(array([0, 1, 2, 3, 4, 5, 6, 7]), array([ 1, 51, 13, 30, 41, 47, 49, 57]))\n",
      "(array([1, 2, 4, 5, 6, 7]), array([49,  1,  4, 10,  2, 19]))\n",
      "state:3\n",
      "Distributions of classes in the clusters:\n",
      "(array([0, 1, 2, 3, 4, 5, 6, 7]), array([10, 21, 92, 79, 28, 23, 42, 31]))\n",
      "(array([0, 1, 2, 3, 4, 5, 6, 7]), array([ 38, 245, 176, 155, 186, 252,  90, 211]))\n",
      "(array([0, 1, 2, 3, 4, 5, 6, 7]), array([ 3, 48, 30, 39, 37, 43, 51, 17]))\n",
      "(array([0, 1, 2, 3, 4, 5, 6, 7]), array([ 56,  19, 230,  37,  15,  34,  35,  48]))\n",
      "(array([0, 1, 2, 3, 4, 5, 6, 7]), array([ 1, 50, 13, 30, 41, 47, 49, 56]))\n",
      "(array([1, 2, 4, 5, 6, 7]), array([49,  1,  4, 10,  2, 19]))\n",
      "(array([0, 1, 2, 3, 4, 5, 6, 7]), array([ 44, 104,  29,  77,  82,  96,  29,  81]))\n",
      "(array([0, 1, 2, 3, 4, 5, 6, 7]), array([ 5,  8, 15, 18, 28, 14,  1, 13]))\n",
      "state:4\n",
      "Distributions of classes in the clusters:\n",
      "(array([0, 1, 2, 3, 4, 5, 6, 7]), array([ 56,  19, 232,  37,  15,  34,  35,  48]))\n",
      "(array([0, 1, 2, 3, 4, 5, 6, 7]), array([ 38, 242, 174, 155, 186, 248,  90, 210]))\n",
      "(array([0, 1, 2, 3, 4, 5, 6, 7]), array([ 3, 48, 30, 41, 37, 43, 52, 16]))\n",
      "(array([0, 1, 2, 3, 4, 5, 6, 7]), array([ 44, 107,  31,  75,  83, 100,  28,  83]))\n",
      "(array([0, 1, 2, 3, 4, 5, 6, 7]), array([10, 21, 90, 79, 28, 23, 42, 31]))\n",
      "(array([1, 2, 4, 5, 6, 7]), array([49,  1,  4, 10,  2, 19]))\n",
      "(array([0, 1, 2, 3, 4, 5, 6, 7]), array([ 1, 51, 13, 30, 41, 47, 49, 57]))\n",
      "(array([0, 1, 2, 3, 4, 5, 6, 7]), array([ 5,  7, 15, 18, 27, 14,  1, 12]))\n"
     ]
    }
   ],
   "source": [
    "from sklearn.cluster import KMeans\n",
    "\n",
    "def K_Means_naive( state ):\n",
    "    print(f\"state:{state}\")\n",
    "    print(\"Distributions of classes in the clusters:\")\n",
    "    kmeans = KMeans(n_clusters=8, random_state=state, n_init=20).fit(naive_train)\n",
    "    clusters=[[],[],[],[],[],[],[],[]]\n",
    "    for x in range(len(indices_train)):\n",
    "        clusters[kmeans.labels_[x]].append(labels[indices_train[x]])\n",
    "    for c in clusters :\n",
    "        print(np.unique(c,return_counts=True))\n",
    "\n",
    "for state in range(5) :\n",
    "    K_Means_naive( state )"
   ]
  },
  {
   "cell_type": "markdown",
   "metadata": {},
   "source": [
    "**Conclusion:** The naive method associated to K-Means does not allow to have an efficient clustering (in the sense that the clusters are very etherogeneous)"
   ]
  },
  {
   "cell_type": "markdown",
   "metadata": {},
   "source": [
    "### KNN"
   ]
  },
  {
   "cell_type": "markdown",
   "metadata": {},
   "source": [
    "Let's try a KNN"
   ]
  },
  {
   "cell_type": "code",
   "execution_count": 13,
   "metadata": {},
   "outputs": [],
   "source": [
    "from sklearn.neighbors import KNeighborsClassifier\n",
    "neigh = KNeighborsClassifier(n_neighbors=1)\n",
    "neigh.fit(naive_train,[labels[i] for i in indices_train])\n",
    "pred=neigh.predict(naive_test)"
   ]
  },
  {
   "cell_type": "markdown",
   "metadata": {},
   "source": [
    "let's compare pred and true labels"
   ]
  },
  {
   "cell_type": "code",
   "execution_count": 14,
   "metadata": {},
   "outputs": [
    {
     "name": "stdout",
     "output_type": "stream",
     "text": [
      "0.5242937853107345\n"
     ]
    }
   ],
   "source": [
    "accuracy = np.sum(np.equal(pred,np.array([labels[i] for i in indices_test])))/len(indices_test)\n",
    "print(accuracy)"
   ]
  },
  {
   "cell_type": "markdown",
   "metadata": {},
   "source": [
    "**Conclusion:** Interestingly, frequencies already allow to have quite good predictions compares to a random prediction that would result in a 12.5% accuracy.  \n",
    "\n",
    "**Challenge**: do better !"
   ]
  },
  {
   "cell_type": "markdown",
   "metadata": {},
   "source": [
    "## Using HMMs to associate coordinates to our malwares"
   ]
  },
  {
   "cell_type": "code",
   "execution_count": 15,
   "metadata": {},
   "outputs": [
    {
     "name": "stdout",
     "output_type": "stream",
     "text": [
      "(array(['Adware', 'Backdoor', 'Downloader', 'Dropper', 'Spyware', 'Trojan',\n",
      "       'Virus', 'Worms'], dtype='<U10'), array([ 379, 1001, 1001,  891,  832, 1001, 1001, 1001]))\n"
     ]
    }
   ],
   "source": [
    "print(uniques)"
   ]
  },
  {
   "cell_type": "markdown",
   "metadata": {},
   "source": [
    "### The Baum Welch algorithm to train HMMs"
   ]
  },
  {
   "cell_type": "code",
   "execution_count": 16,
   "metadata": {},
   "outputs": [],
   "source": [
    "def Baum_Welch_Norm_step(a,b,init,obs) :\n",
    "    N=a.shape[0]\n",
    "    M=b.shape[0]\n",
    "    T=len(obs)\n",
    "    cs=[]\n",
    "\n",
    "    # compute the alphas\n",
    "    alphas=np.zeros([a.shape[0],len(obs)])\n",
    "    alpha=(b[obs[0],:].ravel())*(init.ravel())\n",
    "    #print(\"alpha : \",alpha)\n",
    "    c=np.sum(alpha)\n",
    "    #print(\"c = \",c)\n",
    "    cs.append(1/c)\n",
    "    alpha/=c\n",
    "    alphas[:,0]=alpha\n",
    "    #print(\"alphas : \",alphas)\n",
    "    for i in range(1,len(obs)) :\n",
    "        alpha= b[obs[i],:]*np.matmul(a,alpha)\n",
    "        #print(i,\"alpha =\", alpha)\n",
    "        c=np.sum(alpha)\n",
    "        #print(i,\"c =\", c)\n",
    "        cs.append(1/c)\n",
    "        alpha/=c\n",
    "        alphas[:,i]=alpha\n",
    "\n",
    "\n",
    "    # Compute the betas\n",
    "\n",
    "    betas=np.zeros([a.shape[0],T])\n",
    "    beta=np.ones(a.shape[0])*cs[T-1]\n",
    "    betas[:,T-1]=beta\n",
    "    for i in range(1,T-1) :\n",
    "        beta=np.matmul(b[obs[T-i],:]*beta,a)\n",
    "        beta*=cs[T-i-1]\n",
    "        betas[:,T-i-1]=beta\n",
    "\n",
    "\n",
    "    #Compute the lambdas\n",
    "    lambdas=np.zeros([N,N,T-1])\n",
    "    for s in range(T-1) :\n",
    "        lambdas[:,:,s]=np.transpose((betas[:,s+1]*b[obs[s+1],:])*np.transpose(a*alphas[:,s]))\n",
    "\n",
    "\n",
    "    #Compute the gammas\n",
    "    gammas=np.sum(lambdas, axis=0)\n",
    "\n",
    "    #Compute new B\n",
    "    sumgammas=np.sum(gammas,axis=1)\n",
    "    new_B=np.zeros([M,N])\n",
    "    for i in range(M) :\n",
    "        mask=np.array([o==i for o in obs[:-1] ])*1.0\n",
    "        new_B[i,:]=(np.sum(gammas*mask, axis=1)/sumgammas)\n",
    "\n",
    "    #Compute new A\n",
    "    sumlambd=np.sum(lambdas,axis=2)\n",
    "    new_A=sumlambd/sumgammas\n",
    "\n",
    "    #Compute new init\n",
    "    new_init=gammas[:,0]\n",
    "\n",
    "    #Compute log likehood\n",
    "    log_lik=-1*np.sum(np.log(np.array(cs)))\n",
    "\n",
    "    return new_A,new_B,new_init,log_lik\n",
    "\n",
    "\n",
    "def random_init_prob_cols(n_rows,n_cols) :\n",
    "    answer=np.random.randn(n_cols*n_rows).reshape((n_rows,n_cols))\n",
    "    answer=np.exp(answer)\n",
    "    answer/=np.sum(answer,axis=0)[None,:]\n",
    "    return answer\n",
    "\n",
    "def train_HMM_on_seq_of_api_calls(line_as_number,n_hidden, n_obs):\n",
    "\n",
    "    \n",
    "    est_A=random_init_prob_cols(n_hidden,n_hidden)\n",
    "    est_B=random_init_prob_cols(n_obs,n_hidden)\n",
    "    est_init=np.ones(n_hidden)/n_hidden\n",
    "\n",
    "    for _ in range(15) :\n",
    "        est_A,est_B,est_init,log_lik=Baum_Welch_Norm_step(est_A,est_B,est_init,line_as_number)\n",
    "        est_B = np.maximum(est_B,.000001)\n",
    "        est_B /= (est_B.sum(axis=0)[None,:])\n",
    "        #print(\"  ----->\",_, \" : \" ,log_lik)\n",
    "    \n",
    "    return est_A, est_B, est_init\n",
    "\n",
    "def log_lik(a,b,init,obs):\n",
    "    N=a.shape[0]\n",
    "    M=b.shape[0]\n",
    "    T=len(obs)\n",
    "    cs=[]\n",
    "\n",
    "    # compute the alphas\n",
    "    alphas=np.zeros([a.shape[0],len(obs)])\n",
    "    alpha=(b[obs[0],:].ravel())*(init.ravel())\n",
    "    #print(\"alpha : \",alpha)\n",
    "    c=np.sum(alpha)\n",
    "    #print(\"c = \",c)\n",
    "    cs.append(1/c)\n",
    "    alpha/=c\n",
    "    alphas[:,0]=alpha\n",
    "    #print(\"alphas : \",alphas)\n",
    "    for i in range(1,len(obs)) :\n",
    "        alpha= b[obs[i],:]*np.matmul(a,alpha)\n",
    "        #print(i,\"alpha =\", alpha)\n",
    "        c=np.sum(alpha)\n",
    "        #print(i,\"c =\", c)\n",
    "        cs.append(1/c)\n",
    "        alpha/=c\n",
    "        alphas[:,i]=alpha\n",
    "\n",
    "    log_lik=-1*np.sum(np.log(np.array(cs)))\n",
    "    return log_lik"
   ]
  },
  {
   "cell_type": "markdown",
   "metadata": {},
   "source": [
    "So each malware allows us to define a function from programs (in fact sequences of api calls) to $\\mathbb R$:"
   ]
  },
  {
   "cell_type": "code",
   "execution_count": 17,
   "metadata": {},
   "outputs": [],
   "source": [
    "def get_hmm_f_for_row(row, n_hidden, n_obs):\n",
    "    a, b , init = train_HMM_on_seq_of_api_calls(row, n_hidden, n_obs)\n",
    "    init=np.ones(n_hidden)/n_hidden\n",
    "    def log_lik_hmm(other_row):\n",
    "        return log_lik(a,b,init,other_row)\n",
    "    return log_lik_hmm"
   ]
  },
  {
   "cell_type": "markdown",
   "metadata": {},
   "source": [
    "The class individual:"
   ]
  },
  {
   "cell_type": "code",
   "execution_count": 84,
   "metadata": {},
   "outputs": [],
   "source": [
    "class individual() :\n",
    "    def __init__(self, indices_for_sequence_of_malwares_train , print_details=False) :\n",
    "        self.indices=indices_for_sequence_of_malwares_train\n",
    "        self.representatives = [malwares_train[i] for i in self.indices] #2 per class (2 for the first class, then 2 for the second class etc.)\n",
    "        self.functions_associated_to_representatives=[]\n",
    "        self.frame=None\n",
    "        self.compute_frame()\n",
    "        self.print_details=print_details\n",
    "\n",
    "    def compute_coordinates(self) :\n",
    "        for row in self.representatives :\n",
    "            f_row = get_hmm_f_for_row(np.array(row), 20, 278 )\n",
    "            self.functions_associated_to_representatives.append(f_row)\n",
    "\n",
    "    def compute_embedded_image(self,malwares) :\n",
    "        log_liks = [[f(x) for f in self.functions_associated_to_representatives] for x in malwares]\n",
    "        log_liks=np.array(log_liks)\n",
    "        log_liks/=np.std(log_liks,axis=1)[:,None]\n",
    "        return log_liks\n",
    "        \n",
    "    def compute_frame(self) :\n",
    "        self.compute_coordinates()\n",
    "        \n",
    "        self.frame=self.compute_embedded_image(self.representatives)\n",
    "\n",
    "    def accuracy(self, n) :\n",
    "        from sklearn.decomposition import PCA\n",
    "        pca = PCA(n_components=6)\n",
    "        pca.fit(self.frame)\n",
    "        if self.print_details :\n",
    "            print(np.cumsum(pca.explained_variance_ratio_))\n",
    "        self.frame_pca=pca.transform(self.frame)\n",
    "        \n",
    "        from sklearn.neighbors import KNeighborsClassifier\n",
    "        neigh = KNeighborsClassifier(n_neighbors=1)\n",
    "        neigh.fit(self.frame_pca,np.concatenate([i*np.ones(2,dtype=int) for i in range(8)]))\n",
    "\n",
    "        \n",
    "\n",
    "        def test(i) :\n",
    "            m=malwares_train[i]\n",
    "            coord_m=np.array([f(m) for f in self.functions_associated_to_representatives])\n",
    "            coord_m/=coord_m.std()\n",
    "            coord_m = pca.transform([coord_m])\n",
    "            p=neigh.predict(coord_m)\n",
    "            return  p[0] == labels_train[i] \n",
    "            \n",
    "        def statistics (n) :\n",
    "            part=0\n",
    "            for i in random.choices(list(range(len(malwares_train))), k=n) :\n",
    "                if i%100==0 : \n",
    "                    print(\"testing :\",i)\n",
    "                part+=test(i)\n",
    "            return part/n\n",
    "\n",
    "        return statistics(n)\n",
    "\n",
    "        \n",
    "    \n",
    "        "
   ]
  },
  {
   "cell_type": "code",
   "execution_count": 85,
   "metadata": {},
   "outputs": [
    {
     "name": "stdout",
     "output_type": "stream",
     "text": [
      "testing : 3400\n",
      "testing : 3400\n"
     ]
    },
    {
     "ename": "KeyboardInterrupt",
     "evalue": "",
     "output_type": "error",
     "traceback": [
      "\u001b[0;31m---------------------------------------------------------------------------\u001b[0m",
      "\u001b[0;31mKeyboardInterrupt\u001b[0m                         Traceback (most recent call last)",
      "Cell \u001b[0;32mIn[85], line 19\u001b[0m\n\u001b[1;32m     17\u001b[0m \u001b[38;5;28;01mfor\u001b[39;00m i \u001b[38;5;129;01min\u001b[39;00m \u001b[38;5;28mrange\u001b[39m(\u001b[38;5;241m10\u001b[39m) :\n\u001b[1;32m     18\u001b[0m     ind\u001b[38;5;241m=\u001b[39mrandom_individual()\n\u001b[0;32m---> 19\u001b[0m     \u001b[38;5;28mprint\u001b[39m(\u001b[38;5;124m\"\u001b[39m\u001b[38;5;124maccuracy on the 1000 first malwares :\u001b[39m\u001b[38;5;124m\"\u001b[39m,\u001b[43mind\u001b[49m\u001b[38;5;241;43m.\u001b[39;49m\u001b[43maccuracy\u001b[49m\u001b[43m(\u001b[49m\u001b[38;5;241;43m1000\u001b[39;49m\u001b[43m)\u001b[49m)\n",
      "Cell \u001b[0;32mIn[84], line 56\u001b[0m, in \u001b[0;36mindividual.accuracy\u001b[0;34m(self, n)\u001b[0m\n\u001b[1;32m     53\u001b[0m         part\u001b[38;5;241m+\u001b[39m\u001b[38;5;241m=\u001b[39mtest(i)\n\u001b[1;32m     54\u001b[0m     \u001b[38;5;28;01mreturn\u001b[39;00m part\u001b[38;5;241m/\u001b[39mn\n\u001b[0;32m---> 56\u001b[0m \u001b[38;5;28;01mreturn\u001b[39;00m \u001b[43mstatistics\u001b[49m\u001b[43m(\u001b[49m\u001b[43mn\u001b[49m\u001b[43m)\u001b[49m\n",
      "Cell \u001b[0;32mIn[84], line 53\u001b[0m, in \u001b[0;36mindividual.accuracy.<locals>.statistics\u001b[0;34m(n)\u001b[0m\n\u001b[1;32m     51\u001b[0m     \u001b[38;5;28;01mif\u001b[39;00m i\u001b[38;5;241m%\u001b[39m\u001b[38;5;241m100\u001b[39m\u001b[38;5;241m==\u001b[39m\u001b[38;5;241m0\u001b[39m : \n\u001b[1;32m     52\u001b[0m         \u001b[38;5;28mprint\u001b[39m(\u001b[38;5;124m\"\u001b[39m\u001b[38;5;124mtesting :\u001b[39m\u001b[38;5;124m\"\u001b[39m,i)\n\u001b[0;32m---> 53\u001b[0m     part\u001b[38;5;241m+\u001b[39m\u001b[38;5;241m=\u001b[39m\u001b[43mtest\u001b[49m\u001b[43m(\u001b[49m\u001b[43mi\u001b[49m\u001b[43m)\u001b[49m\n\u001b[1;32m     54\u001b[0m \u001b[38;5;28;01mreturn\u001b[39;00m part\u001b[38;5;241m/\u001b[39mn\n",
      "Cell \u001b[0;32mIn[84], line 42\u001b[0m, in \u001b[0;36mindividual.accuracy.<locals>.test\u001b[0;34m(i)\u001b[0m\n\u001b[1;32m     40\u001b[0m \u001b[38;5;28;01mdef\u001b[39;00m \u001b[38;5;21mtest\u001b[39m(i) :\n\u001b[1;32m     41\u001b[0m     m\u001b[38;5;241m=\u001b[39mmalwares_train[i]\n\u001b[0;32m---> 42\u001b[0m     coord_m\u001b[38;5;241m=\u001b[39mnp\u001b[38;5;241m.\u001b[39marray(\u001b[43m[\u001b[49m\u001b[43mf\u001b[49m\u001b[43m(\u001b[49m\u001b[43mm\u001b[49m\u001b[43m)\u001b[49m\u001b[43m \u001b[49m\u001b[38;5;28;43;01mfor\u001b[39;49;00m\u001b[43m \u001b[49m\u001b[43mf\u001b[49m\u001b[43m \u001b[49m\u001b[38;5;129;43;01min\u001b[39;49;00m\u001b[43m \u001b[49m\u001b[38;5;28;43mself\u001b[39;49m\u001b[38;5;241;43m.\u001b[39;49m\u001b[43mfunctions_associated_to_representatives\u001b[49m\u001b[43m]\u001b[49m)\n\u001b[1;32m     43\u001b[0m     coord_m\u001b[38;5;241m/\u001b[39m\u001b[38;5;241m=\u001b[39mcoord_m\u001b[38;5;241m.\u001b[39mstd()\n\u001b[1;32m     44\u001b[0m     coord_m \u001b[38;5;241m=\u001b[39m pca\u001b[38;5;241m.\u001b[39mtransform([coord_m])\n",
      "Cell \u001b[0;32mIn[84], line 42\u001b[0m, in \u001b[0;36m<listcomp>\u001b[0;34m(.0)\u001b[0m\n\u001b[1;32m     40\u001b[0m \u001b[38;5;28;01mdef\u001b[39;00m \u001b[38;5;21mtest\u001b[39m(i) :\n\u001b[1;32m     41\u001b[0m     m\u001b[38;5;241m=\u001b[39mmalwares_train[i]\n\u001b[0;32m---> 42\u001b[0m     coord_m\u001b[38;5;241m=\u001b[39mnp\u001b[38;5;241m.\u001b[39marray([\u001b[43mf\u001b[49m\u001b[43m(\u001b[49m\u001b[43mm\u001b[49m\u001b[43m)\u001b[49m \u001b[38;5;28;01mfor\u001b[39;00m f \u001b[38;5;129;01min\u001b[39;00m \u001b[38;5;28mself\u001b[39m\u001b[38;5;241m.\u001b[39mfunctions_associated_to_representatives])\n\u001b[1;32m     43\u001b[0m     coord_m\u001b[38;5;241m/\u001b[39m\u001b[38;5;241m=\u001b[39mcoord_m\u001b[38;5;241m.\u001b[39mstd()\n\u001b[1;32m     44\u001b[0m     coord_m \u001b[38;5;241m=\u001b[39m pca\u001b[38;5;241m.\u001b[39mtransform([coord_m])\n",
      "Cell \u001b[0;32mIn[17], line 5\u001b[0m, in \u001b[0;36mget_hmm_f_for_row.<locals>.log_lik_hmm\u001b[0;34m(other_row)\u001b[0m\n\u001b[1;32m      4\u001b[0m \u001b[38;5;28;01mdef\u001b[39;00m \u001b[38;5;21mlog_lik_hmm\u001b[39m(other_row):\n\u001b[0;32m----> 5\u001b[0m     \u001b[38;5;28;01mreturn\u001b[39;00m \u001b[43mlog_lik\u001b[49m\u001b[43m(\u001b[49m\u001b[43ma\u001b[49m\u001b[43m,\u001b[49m\u001b[43mb\u001b[49m\u001b[43m,\u001b[49m\u001b[43minit\u001b[49m\u001b[43m,\u001b[49m\u001b[43mother_row\u001b[49m\u001b[43m)\u001b[49m\n",
      "Cell \u001b[0;32mIn[16], line 105\u001b[0m, in \u001b[0;36mlog_lik\u001b[0;34m(a, b, init, obs)\u001b[0m\n\u001b[1;32m    103\u001b[0m \u001b[38;5;66;03m#print(\"alphas : \",alphas)\u001b[39;00m\n\u001b[1;32m    104\u001b[0m \u001b[38;5;28;01mfor\u001b[39;00m i \u001b[38;5;129;01min\u001b[39;00m \u001b[38;5;28mrange\u001b[39m(\u001b[38;5;241m1\u001b[39m,\u001b[38;5;28mlen\u001b[39m(obs)) :\n\u001b[0;32m--> 105\u001b[0m     alpha\u001b[38;5;241m=\u001b[39m b[obs[i],:]\u001b[38;5;241m*\u001b[39m\u001b[43mnp\u001b[49m\u001b[38;5;241;43m.\u001b[39;49m\u001b[43mmatmul\u001b[49m\u001b[43m(\u001b[49m\u001b[43ma\u001b[49m\u001b[43m,\u001b[49m\u001b[43malpha\u001b[49m\u001b[43m)\u001b[49m\n\u001b[1;32m    106\u001b[0m     \u001b[38;5;66;03m#print(i,\"alpha =\", alpha)\u001b[39;00m\n\u001b[1;32m    107\u001b[0m     c\u001b[38;5;241m=\u001b[39mnp\u001b[38;5;241m.\u001b[39msum(alpha)\n",
      "\u001b[0;31mKeyboardInterrupt\u001b[0m: "
     ]
    }
   ],
   "source": [
    "#Example :\n",
    "import random \n",
    "\n",
    "labels_train=np.array(labels_train)\n",
    "\n",
    "def get_random_genom() :\n",
    "    indices_of_representatives = []\n",
    "    for x in [dic[malware_type] for malware_type in uniques[0]] :\n",
    "        indices_of_malwares_of_type_x = [ i for i in range(len(malwares_train)) if ( labels_train[i]==x   ) and (len(malwares_train[i]<500))] #last condition to be deleted later\n",
    "        sample=random.sample(indices_of_malwares_of_type_x,2)\n",
    "        indices_of_representatives+=sample\n",
    "    return indices_of_representatives\n",
    "    \n",
    "def random_individual() :\n",
    "    return individual(get_random_genom())\n",
    "\n",
    "for i in range(10) :\n",
    "    ind=random_individual()\n",
    "    print(\"accuracy on the 1000 first malwares :\",ind.accuracy(1000))"
   ]
  },
  {
   "cell_type": "markdown",
   "metadata": {},
   "source": [
    "## Genetic algorithm to choose the frame\n",
    "\n",
    "We see the list of 16 indices of chosen malwares as the DNA of our individuals.\n",
    "\n",
    "We begin with 12 individuals and compute their accuracy on a test set.\n",
    "\n",
    "We keep only the two best individuals (the one that have the highest accuracy) \n",
    "\n",
    "We choose 10 new individuals (their children) as follows :\n",
    "\n",
    "    the DNA of a child is made by choosing one chromosom in the genom of its parents\n",
    "    4 of the chromosoms, chosen randomly are mutated"
   ]
  },
  {
   "cell_type": "code",
   "execution_count": null,
   "metadata": {},
   "outputs": [],
   "source": [
    "def next_generation(generation ) :\n",
    "    accuracies = np.array([ind.accuracy(400) for ind in generation])\n",
    "    print(\"accuracies=\", accuracies)\n",
    "    sorted=np.sort(accuracies)\n",
    "    max_vals= sorted[-2:]\n",
    "    parents=[generation[i] for i in range(12) if accuracies[i] in max_vals]\n",
    "    answer=[parents[i] for i in range(2)]\n",
    "    \n",
    "    for i in range(10) :    \n",
    "        indices_mother=parents[0].indices\n",
    "        indices_father=parents[1].indices\n",
    "        indices_child=[]\n",
    "        for j in range(8) :\n",
    "            u=np.random.rand()\n",
    "            if u>.5 :\n",
    "                indices_child.append(indices_mother[2*j+1])\n",
    "            else :\n",
    "                indices_child.append(indices_mother[2*j])\n",
    "            u=np.random.rand()\n",
    "            if u>.5 :\n",
    "                indices_child.append(indices_father[2*j+1])\n",
    "            else :\n",
    "                indices_child.append(indices_father[2*j])\n",
    "        mutations = random.choices(list(range(16)),k=4)\n",
    "        random_genom = get_random_genom()\n",
    "        for j in mutations :\n",
    "            indices_child[j] = random_genom[j]\n",
    "        answer.append(individual(indices_child))\n",
    "    return answer\n",
    "            \n",
    "            \n",
    "            \n",
    "            \n",
    "    \n",
    "    \n",
    "    \n",
    "\n",
    "def genetic(n_generations) :\n",
    "\n",
    "    # Choose 12 random individuals\n",
    "    generation =[]\n",
    "    for i in range(12) :\n",
    "        generation.append(random_individual())\n",
    "    print([ind.indices for ind in generation])\n",
    "    for g in range(n_generations) :\n",
    "        generation = next_generation(generation)\n",
    "        print(f\"------------------------------------- generation {g}\")\n",
    "        print([ind.indices for ind in generation])\n",
    "\n",
    "    return generation\n",
    "\n",
    "\n",
    "genetic(10)\n"
   ]
  },
  {
   "cell_type": "markdown",
   "metadata": {},
   "source": [
    "# Older material"
   ]
  },
  {
   "cell_type": "code",
   "execution_count": 45,
   "metadata": {},
   "outputs": [
    {
     "name": "stdout",
     "output_type": "stream",
     "text": [
      "2914 :  [False]\n",
      "1577 :  [False]\n",
      "1540 :  [False]\n",
      "1697 :  [ True]\n",
      "227 :  [ True]\n",
      "1428 :  [ True]\n",
      "2689 :  [ True]\n",
      "3062 :  [ True]\n",
      "2782 :  [False]\n",
      "2320 :  [False]\n",
      "279 :  [False]\n",
      "55 :  [ True]\n",
      "3404 :  [False]\n",
      "3388 :  [False]\n",
      "1380 :  [False]\n",
      "369 :  [ True]\n",
      "0\n",
      "20\n",
      "40\n",
      "60\n",
      "80\n"
     ]
    },
    {
     "data": {
      "text/plain": [
       "array([0.1])"
      ]
     },
     "execution_count": 45,
     "metadata": {},
     "output_type": "execute_result"
    }
   ],
   "source": [
    "ind.accuracy(100)"
   ]
  },
  {
   "cell_type": "code",
   "execution_count": 21,
   "metadata": {},
   "outputs": [
    {
     "name": "stdout",
     "output_type": "stream",
     "text": [
      "trying : \n"
     ]
    },
    {
     "ename": "ValueError",
     "evalue": "Sample larger than population or is negative",
     "output_type": "error",
     "traceback": [
      "\u001b[0;31m---------------------------------------------------------------------------\u001b[0m",
      "\u001b[0;31mValueError\u001b[0m                                Traceback (most recent call last)",
      "Cell \u001b[0;32mIn[21], line 64\u001b[0m\n\u001b[1;32m     61\u001b[0m     \u001b[38;5;28mprint\u001b[39m(statistics(\u001b[38;5;241m200\u001b[39m))\n\u001b[1;32m     63\u001b[0m \u001b[38;5;28;01mfor\u001b[39;00m i \u001b[38;5;129;01min\u001b[39;00m \u001b[38;5;28mrange\u001b[39m(\u001b[38;5;241m10\u001b[39m) :\n\u001b[0;32m---> 64\u001b[0m     \u001b[43mtrying\u001b[49m\u001b[43m(\u001b[49m\u001b[43m)\u001b[49m\n\u001b[1;32m     65\u001b[0m     \u001b[38;5;28mprint\u001b[39m(\u001b[38;5;124m\"\u001b[39m\u001b[38;5;124m-----------------------------------------------------------------------------------------\u001b[39m\u001b[38;5;124m\"\u001b[39m)\n",
      "Cell \u001b[0;32mIn[21], line 8\u001b[0m, in \u001b[0;36mtrying\u001b[0;34m()\u001b[0m\n\u001b[1;32m      6\u001b[0m \u001b[38;5;28;01mfor\u001b[39;00m x \u001b[38;5;129;01min\u001b[39;00m uniques[\u001b[38;5;241m0\u001b[39m] :\n\u001b[1;32m      7\u001b[0m     indices_of_malwares_of_type_x \u001b[38;5;241m=\u001b[39m [ i \u001b[38;5;28;01mfor\u001b[39;00m i \u001b[38;5;129;01min\u001b[39;00m \u001b[38;5;28mrange\u001b[39m(\u001b[38;5;28mlen\u001b[39m(malwares)) \u001b[38;5;28;01mif\u001b[39;00m ( labels[i]\u001b[38;5;241m==\u001b[39mx  \u001b[38;5;129;01mand\u001b[39;00m \u001b[38;5;28mlen\u001b[39m(malwares[i])\u001b[38;5;241m<\u001b[39m\u001b[38;5;241m5000\u001b[39m ) ] \n\u001b[0;32m----> 8\u001b[0m     sample\u001b[38;5;241m=\u001b[39m\u001b[43mrandom\u001b[49m\u001b[38;5;241;43m.\u001b[39;49m\u001b[43msample\u001b[49m\u001b[43m(\u001b[49m\u001b[43mindices_of_malwares_of_type_x\u001b[49m\u001b[43m,\u001b[49m\u001b[43mhyperparameter\u001b[49m\u001b[43m)\u001b[49m\n\u001b[1;32m      9\u001b[0m     \u001b[38;5;28mprint\u001b[39m(x,\u001b[38;5;124m\"\u001b[39m\u001b[38;5;124m : \u001b[39m\u001b[38;5;124m\"\u001b[39m,sample)\n\u001b[1;32m     10\u001b[0m     representatives\u001b[38;5;241m+\u001b[39m\u001b[38;5;241m=\u001b[39m[malwares[i] \u001b[38;5;28;01mfor\u001b[39;00m i \u001b[38;5;129;01min\u001b[39;00m sample]\n",
      "File \u001b[0;32m/usr/lib/python3.11/random.py:456\u001b[0m, in \u001b[0;36mRandom.sample\u001b[0;34m(self, population, k, counts)\u001b[0m\n\u001b[1;32m    454\u001b[0m randbelow \u001b[38;5;241m=\u001b[39m \u001b[38;5;28mself\u001b[39m\u001b[38;5;241m.\u001b[39m_randbelow\n\u001b[1;32m    455\u001b[0m \u001b[38;5;28;01mif\u001b[39;00m \u001b[38;5;129;01mnot\u001b[39;00m \u001b[38;5;241m0\u001b[39m \u001b[38;5;241m<\u001b[39m\u001b[38;5;241m=\u001b[39m k \u001b[38;5;241m<\u001b[39m\u001b[38;5;241m=\u001b[39m n:\n\u001b[0;32m--> 456\u001b[0m     \u001b[38;5;28;01mraise\u001b[39;00m \u001b[38;5;167;01mValueError\u001b[39;00m(\u001b[38;5;124m\"\u001b[39m\u001b[38;5;124mSample larger than population or is negative\u001b[39m\u001b[38;5;124m\"\u001b[39m)\n\u001b[1;32m    457\u001b[0m result \u001b[38;5;241m=\u001b[39m [\u001b[38;5;28;01mNone\u001b[39;00m] \u001b[38;5;241m*\u001b[39m k\n\u001b[1;32m    458\u001b[0m setsize \u001b[38;5;241m=\u001b[39m \u001b[38;5;241m21\u001b[39m        \u001b[38;5;66;03m# size of a small set minus size of an empty list\u001b[39;00m\n",
      "\u001b[0;31mValueError\u001b[0m: Sample larger than population or is negative"
     ]
    }
   ],
   "source": [
    "def trying() :\n",
    "    import random \n",
    "    hyperparameter = 2\n",
    "    representatives = []\n",
    "    print (\"trying : \")\n",
    "    for x in uniques[0] :\n",
    "        indices_of_malwares_of_type_x = [ i for i in range(len(malwares)) if ( labels[i]==x  and len(malwares[i])<5000 ) ] \n",
    "        sample=random.sample(indices_of_malwares_of_type_x,hyperparameter)\n",
    "        print(x,\" : \",sample)\n",
    "        representatives+=[malwares[i] for i in sample]\n",
    "\n",
    "    \n",
    "    \n",
    "    count=0\n",
    "    functions_associated_to_representatives=[]\n",
    "    for row in representatives :\n",
    "        print(count)\n",
    "        count+=1\n",
    "        f_row = get_hmm_f_for_row(np.array(row), 20, 267 )\n",
    "        functions_associated_to_representatives.append(f_row)\n",
    "    \n",
    "    #8*hyperparameter points in a 8*hyperparameter dimensional space\n",
    "    \n",
    "    log_liks = [[f(x) for f in functions_associated_to_representatives] for x in representatives]\n",
    "    \n",
    "    log_liks=np.array(log_liks).T\n",
    "    \n",
    "    log_liks/=np.std(log_liks,axis=1)[:,None]\n",
    "    \n",
    "    from sklearn.decomposition import PCA\n",
    "    pca = PCA(n_components=6)\n",
    "    pca.fit(log_liks)\n",
    "    print(np.cumsum(pca.explained_variance_ratio_))\n",
    "    \n",
    "    log_liks_pca=pca.transform(log_liks)\n",
    "    \n",
    "    from sklearn.neighbors import KNeighborsClassifier\n",
    "    neigh = KNeighborsClassifier(n_neighbors=hyperparameter)\n",
    "    neigh.fit(log_liks_pca,np.concatenate([i*np.ones(hyperparameter,dtype=int) for i in range(8)]))\n",
    "    \n",
    "            \n",
    "    \n",
    "    \n",
    "    \n",
    "    \n",
    "    \n",
    "    def statistics (n) :\n",
    "        tot=0\n",
    "        tot_laxist=0\n",
    "        tot_severe=0\n",
    "        for i in range(n) :\n",
    "            if len(malwares[i])<20000 :\n",
    "                tot+=1\n",
    "                if i%20==0 : \n",
    "                    print(i)\n",
    "                laxist,severe =test(i)\n",
    "                tot_laxist+=laxist\n",
    "                tot_severe+=severe\n",
    "        return tot_laxist/tot, tot_severe/tot\n",
    "    \n",
    "    print(statistics(200))\n",
    "\n",
    "for i in range(10) :\n",
    "    trying()\n",
    "    print(\"-----------------------------------------------------------------------------------------\")"
   ]
  },
  {
   "cell_type": "code",
   "execution_count": null,
   "metadata": {},
   "outputs": [],
   "source": [
    "# an individual is a choice of hyperparameter*8 malwares\n",
    "# a generation is a choice of 10 individuals\n",
    "# for each generation we keep the best three individuals, and 7 children obtained by mixing the malwares in the individuals and changing randomly 4 of the malwares\n",
    "\n",
    "\n",
    "\n",
    "\n",
    "def genetic_search(n_generations) :\n",
    "    \n"
   ]
  },
  {
   "cell_type": "code",
   "execution_count": null,
   "metadata": {},
   "outputs": [],
   "source": [
    "print(uniques[0])"
   ]
  },
  {
   "cell_type": "code",
   "execution_count": null,
   "metadata": {},
   "outputs": [],
   "source": []
  },
  {
   "cell_type": "code",
   "execution_count": null,
   "metadata": {},
   "outputs": [],
   "source": []
  },
  {
   "cell_type": "code",
   "execution_count": null,
   "metadata": {},
   "outputs": [],
   "source": []
  },
  {
   "cell_type": "code",
   "execution_count": null,
   "metadata": {},
   "outputs": [],
   "source": [
    "100/8\n"
   ]
  },
  {
   "cell_type": "code",
   "execution_count": null,
   "metadata": {},
   "outputs": [],
   "source": [
    "test(0)"
   ]
  },
  {
   "cell_type": "code",
   "execution_count": null,
   "metadata": {},
   "outputs": [],
   "source": [
    "log_liks=np.array(log_liks)\n",
    "log_liks_centered=np.array(log_liks) - np.array([ log_liks[i,i] for i in range(40)]) \n",
    "log_liks_normalized= log_liks_centered/np.min(log_liks,axis=1)[:,None]\n",
    "plt.imshow(log_liks_normalized)"
   ]
  },
  {
   "cell_type": "code",
   "execution_count": null,
   "metadata": {},
   "outputs": [],
   "source": []
  },
  {
   "cell_type": "code",
   "execution_count": null,
   "metadata": {},
   "outputs": [],
   "source": [
    "malwares = malwares.dropna(subset='malware')\n"
   ]
  },
  {
   "cell_type": "code",
   "execution_count": null,
   "metadata": {},
   "outputs": [],
   "source": [
    "malwares.isnull().sum().sum()"
   ]
  },
  {
   "cell_type": "code",
   "execution_count": null,
   "metadata": {},
   "outputs": [],
   "source": [
    "indexes = np.arange(malwares.shape[0])\n",
    "np.random.shuffle(indexes)\n",
    "random_choices = indexes[:1000]\n",
    "D= malwares.iloc[random_choices, 1:]\n",
    "malwares= malwares.iloc[:, 1:]\n",
    "\n",
    "len(np.unique(malwares.to_numpy()))"
   ]
  },
  {
   "cell_type": "code",
   "execution_count": null,
   "metadata": {},
   "outputs": [],
   "source": [
    "from sklearn.cluster import KMeans\n",
    "y=[]\n",
    "z=[]\n",
    "max_clust = 31\n",
    "for i in range(2,max_clust):\n",
    "    model = KMeans(n_clusters=i, random_state=0, n_init='auto')\n",
    "    model.fit(test)\n",
    "    y.append(model.inertia_)\n",
    "for i in range(2,max_clust):\n",
    "    model = KMeans(n_clusters=i, random_state=0, n_init='auto')\n",
    "    model.fit(randomised_test)\n",
    "    z.append(model.inertia_)\n",
    "import matplotlib.pyplot as plt\n",
    "plt.figure(figsize=(10, 5))\n",
    "plt.plot(range(2, max_clust), y, label='test')\n",
    "plt.plot(range(2, max_clust), z, label='randomised_test')\n",
    "plt.xlabel('Number of Clusters')\n",
    "plt.ylabel('Inertia')\n",
    "plt.title('Elbow Method for Choosing Number of Clusters')\n",
    "plt.legend()\n",
    "plt.show() \n",
    "\"\"\"\n",
    "plt.plot(range(2,max_clust),y)\n",
    "plt.plot(range(2,max_clust),z)\"\"\""
   ]
  },
  {
   "cell_type": "code",
   "execution_count": null,
   "metadata": {},
   "outputs": [],
   "source": [
    "test = malwares[malwares['malware'] == 1].iloc[:,1:101].to_numpy()\n",
    "print('unique test:',np.unique(test))\n",
    "print(np.unique(test).size)\n",
    "\n",
    "def transle_to_norm(s):\n",
    "    u = np.unique(s)\n",
    "    l_u = u.size\n",
    "    translator = dict()\n",
    "    for w,i in zip(u, range(l_u)):\n",
    "        translator[w]=i\n",
    "    translaed_s = [[translator[w] for w in row]for row in s]\n",
    "\n",
    "    return np.array(translaed_s), l_u\n",
    "\n",
    "x,l=transle_to_norm(test)\n",
    "print('x:',np.unique(x))\n",
    "print('l:',l)\n",
    "\n",
    "\n",
    "randomised_test = test.copy()\n",
    "print(type(randomised_test))\n",
    "print(test.shape)\n",
    "np.random.shuffle(randomised_test)\n",
    "print('test shape:', test.shape)\n",
    "#np.reshape(randomised_test,test.shape)\n",
    "print('randomised test shape:', randomised_test.shape)\n",
    "print('random:',randomised_test[:2])\n",
    "print('test:', test[:2])"
   ]
  },
  {
   "cell_type": "code",
   "execution_count": null,
   "metadata": {},
   "outputs": [],
   "source": [
    "def Baum_Welch_Norm_step(a,b,init,obs) :\n",
    "    N=a.shape[0]\n",
    "    M=b.shape[0]\n",
    "    T=len(obs)\n",
    "    cs=[]\n",
    "\n",
    "    # compute the alphas\n",
    "    alphas=np.zeros([a.shape[0],len(obs)])\n",
    "    alpha=(b[obs[0],:].ravel())*(init.ravel())\n",
    "    #print(\"alpha : \",alpha)\n",
    "    c=np.sum(alpha)\n",
    "    #print(\"c = \",c)\n",
    "    cs.append(1/c)\n",
    "    alpha/=c\n",
    "    alphas[:,0]=alpha\n",
    "    #print(\"alphas : \",alphas)\n",
    "    for i in range(1,len(obs)) :\n",
    "        alpha= b[obs[i],:]*np.matmul(a,alpha)\n",
    "        #print(i,\"alpha =\", alpha)\n",
    "        c=np.sum(alpha)\n",
    "        #print(i,\"c =\", c)\n",
    "        cs.append(1/c)\n",
    "        alpha/=c\n",
    "        alphas[:,i]=alpha\n",
    "\n",
    "\n",
    "    # Compute the betas\n",
    "\n",
    "    betas=np.zeros([a.shape[0],T])\n",
    "    beta=np.ones(a.shape[0])*cs[T-1]\n",
    "    betas[:,T-1]=beta\n",
    "    for i in range(1,T-1) :\n",
    "        beta=np.matmul(b[obs[T-i],:]*beta,a)\n",
    "        beta*=cs[T-i-1]\n",
    "        betas[:,T-i-1]=beta\n",
    "\n",
    "\n",
    "    #Compute the lambdas\n",
    "    lambdas=np.zeros([N,N,T-1])\n",
    "    for s in range(T-1) :\n",
    "        lambdas[:,:,s]=np.transpose((betas[:,s+1]*b[obs[s+1],:])*np.transpose(a*alphas[:,s]))\n",
    "\n",
    "\n",
    "    #Compute the gammas\n",
    "    gammas=np.sum(lambdas, axis=0)\n",
    "\n",
    "    #Compute new B\n",
    "    sumgammas=np.sum(gammas,axis=1)\n",
    "    new_B=np.zeros([M,N])\n",
    "    for i in range(M) :\n",
    "        mask=np.array([o==i for o in obs[:-1] ])*1.0\n",
    "        new_B[i,:]=(np.sum(gammas*mask, axis=1)/sumgammas)\n",
    "\n",
    "    #Compute new A\n",
    "    sumlambd=np.sum(lambdas,axis=2)\n",
    "    new_A=sumlambd/sumgammas\n",
    "\n",
    "    #Compute new init\n",
    "    new_init=gammas[:,0]\n",
    "\n",
    "    #Compute log likehood\n",
    "    log_lik=-1*np.sum(np.log(np.array(cs)))\n",
    "\n",
    "    return new_A,new_B,new_init,log_lik\n"
   ]
  },
  {
   "cell_type": "code",
   "execution_count": null,
   "metadata": {},
   "outputs": [],
   "source": [
    "def random_init_prob_cols(n_rows,n_cols) :\n",
    "    answer=np.random.randn(n_cols*n_rows).reshape((n_rows,n_cols))\n",
    "    answer=np.exp(answer)\n",
    "    answer/=np.sum(answer,axis=0)[None,:]\n",
    "    return answer\n",
    "\n",
    "def train_HMM_on_seq_of_api_calls(line_as_number,n_hidden, n_obs):\n",
    "\n",
    "    \n",
    "    est_A=random_init_prob_cols(n_hidden,n_hidden)\n",
    "    est_B=random_init_prob_cols(n_obs,n_hidden)\n",
    "    est_init=np.ones(n_hidden)/n_hidden\n",
    "\n",
    "    for _ in range(15) :\n",
    "        est_A,est_B,est_init,log_lik=Baum_Welch_Norm_step(est_A,est_B,est_init,line_as_number)\n",
    "        est_B = np.maximum(est_B,.000001)\n",
    "        est_B /= (est_B.sum(axis=0)[None,:])\n",
    "        #print(\"  ----->\",_, \" : \" ,log_lik)\n",
    "    \n",
    "    return est_A, est_B, est_init\n",
    "\n"
   ]
  },
  {
   "cell_type": "code",
   "execution_count": null,
   "metadata": {},
   "outputs": [],
   "source": [
    "def log_lik(a,b,init,obs):\n",
    "    N=a.shape[0]\n",
    "    M=b.shape[0]\n",
    "    T=len(obs)\n",
    "    cs=[]\n",
    "\n",
    "    # compute the alphas\n",
    "    alphas=np.zeros([a.shape[0],len(obs)])\n",
    "    alpha=(b[obs[0],:].ravel())*(init.ravel())\n",
    "    #print(\"alpha : \",alpha)\n",
    "    c=np.sum(alpha)\n",
    "    #print(\"c = \",c)\n",
    "    cs.append(1/c)\n",
    "    alpha/=c\n",
    "    alphas[:,0]=alpha\n",
    "    #print(\"alphas : \",alphas)\n",
    "    for i in range(1,len(obs)) :\n",
    "        alpha= b[obs[i],:]*np.matmul(a,alpha)\n",
    "        #print(i,\"alpha =\", alpha)\n",
    "        c=np.sum(alpha)\n",
    "        #print(i,\"c =\", c)\n",
    "        cs.append(1/c)\n",
    "        alpha/=c\n",
    "        alphas[:,i]=alpha\n",
    "\n",
    "    log_lik=-1*np.sum(np.log(np.array(cs)))\n",
    "    return log_lik"
   ]
  },
  {
   "cell_type": "code",
   "execution_count": null,
   "metadata": {},
   "outputs": [],
   "source": [
    "def get_hmm_f_for_row(row, n_hidden, n_obs):\n",
    "    a, b , init = train_HMM_on_seq_of_api_calls(row, n_hidden, n_obs)\n",
    "    init=np.ones(n_hidden)/n_hidden\n",
    "    def log_lik_hmm(other_row):\n",
    "        return log_lik(a,b,init,other_row)\n",
    "    return log_lik_hmm\n",
    "\n",
    "f =get_hmm_f_for_row(x[10],2,l )\n",
    "g =get_hmm_f_for_row(x[50],2,l )\n",
    "h =get_hmm_f_for_row(x[99],2,l )\n",
    "\n",
    "\"\"\" for i in range(1,l) : \n",
    "    f = get_hmm_f_for_row(x[i],2,l)\n",
    " \"\"\""
   ]
  },
  {
   "cell_type": "code",
   "execution_count": null,
   "metadata": {},
   "outputs": [],
   "source": [
    "#%matplotlib\n",
    "L= [f(x[i]) for i in range(l)]\n",
    "M= [g(x[i]) for i in range(l)]\n",
    "N = [h(x[i]) for i in range(l)]\n",
    "fig = plt.figure()\n",
    "ax = fig.add_subplot(projection= '3d')\n",
    "\n",
    "ax.scatter(L,M,N)"
   ]
  },
  {
   "cell_type": "code",
   "execution_count": null,
   "metadata": {},
   "outputs": [],
   "source": [
    "def mix_step(D,indicies,l):\n",
    "    #d is dataset \n",
    "    #indicies  IS LISE OF INDICIES\n",
    "\n",
    "    fs = [get_hmm_f_for_row(D[i], 2, l) for i in indicies]\n",
    "    cloud=np.array([[fs[i](x) for i in range(len(indicies))] for x in D])\n",
    "    from sklearn.cluster import KMeans\n",
    "    k_means_model= KMeans(n_clusters=len(indicies), random_state=0, n_init='auto')\n",
    "    k_means_model.fit(cloud)\n",
    "    cs = k_means_model.cluster_centers_\n",
    "    from sklearn.neighbors import KNeighborsClassifier\n",
    "    knn_model = KNeighborsClassifier(n_neighbors=1)\n",
    "    knn_model.fit(cloud, range(cloud.shape[0]))\n",
    "    cs_closet = knn_model.predict(cs)\n",
    "\n",
    "    return cs_closet,k_means_model.inertia_\n",
    "\n"
   ]
  },
  {
   "cell_type": "code",
   "execution_count": null,
   "metadata": {},
   "outputs": [],
   "source": [
    "#%matplotlib\n",
    "new_x = x.copy()\n",
    "np.random.shuffle(new_x)\n",
    "new_x = new_x[:1000]\n",
    "indices = [0,1,2]\n",
    "inertias = []\n",
    "mix_step(new_x, indices,l)\n",
    "for i in range (10):\n",
    "    for j in range(10):\n",
    "        indices, inertia= mix_step(new_x, indices,l,)\n",
    "        inertias.append(inertia)\n",
    "        print(indices)\n",
    "\n",
    "plt.hist(inertias)"
   ]
  },
  {
   "cell_type": "code",
   "execution_count": null,
   "metadata": {},
   "outputs": [],
   "source": []
  }
 ],
 "metadata": {
  "kernelspec": {
   "display_name": "Python 3 (ipykernel)",
   "language": "python",
   "name": "python3"
  },
  "language_info": {
   "codemirror_mode": {
    "name": "ipython",
    "version": 3
   },
   "file_extension": ".py",
   "mimetype": "text/x-python",
   "name": "python",
   "nbconvert_exporter": "python",
   "pygments_lexer": "ipython3",
   "version": "3.11.8"
  }
 },
 "nbformat": 4,
 "nbformat_minor": 4
}
